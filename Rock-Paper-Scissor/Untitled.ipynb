{
 "cells": [
  {
   "cell_type": "code",
   "execution_count": null,
   "id": "5e88d4f6-edbc-48d8-bb16-964aaee1c8fb",
   "metadata": {},
   "outputs": [],
   "source": [
    "pip install cvzone"
   ]
  },
  {
   "cell_type": "code",
   "execution_count": null,
   "id": "972795bd-268e-4382-9875-fbf76ea54f04",
   "metadata": {},
   "outputs": [],
   "source": [
    "pip install MediaPipe"
   ]
  },
  {
   "cell_type": "code",
   "execution_count": null,
   "id": "1cbdc765-bead-4b15-b677-d3bfb8d186d5",
   "metadata": {},
   "outputs": [],
   "source": []
  },
  {
   "cell_type": "code",
   "execution_count": null,
   "id": "1aecf040-32ef-41b4-9914-a4fa8fdfacfe",
   "metadata": {},
   "outputs": [],
   "source": [
    "import cv2\n",
    "import cvzone\n",
    "import time\n",
    "import random"
   ]
  },
  {
   "cell_type": "code",
   "execution_count": null,
   "id": "aefab5d3-2754-42ee-8a4e-6398b110e502",
   "metadata": {},
   "outputs": [],
   "source": [
    "from cvzone.HandTrackingModule import HandDetector\n"
   ]
  },
  {
   "cell_type": "code",
   "execution_count": null,
   "id": "1e2aa416-24b2-4f7e-b471-5424f3a70151",
   "metadata": {},
   "outputs": [],
   "source": [
    "\n",
    "\n",
    "cap = cv2.VideoCapture(0)\n",
    "\n",
    "cap.set(3,640)\n",
    "cap.set(4,480)\n",
    "\n",
    "detector = HandDetector(maxHands=1)\n",
    "\n",
    "timer = 0\n",
    "stateResult = False\n",
    "startGame = False\n",
    "scores = [0,0]#[ai.pl]\n",
    "\n",
    "while True:\n",
    "    imgBG = cv2.imread(\"Resources/BG.png\")\n",
    "    success, img=cap.read()\n",
    "    \n",
    "    imgScaled = cv2.resize(img,(0,0),None,0.875,0.875)\n",
    "    imgScaled = imgScaled[:,80:480]\n",
    "    \n",
    "     #Find Hands\n",
    "    hands, img = detector.findHands(imgScaled)\n",
    "    \n",
    "    if startGame:\n",
    "        if stateResult is False:\n",
    "            timer=time.time() - initialTime\n",
    "            cv2.putText(imgBG,str(int(timer)),(605,435),cv2.FONT_HERSHEY_PLAIN,6,(255,0,255),4)\n",
    "            \n",
    "            if timer>3:\n",
    "                stateResult = True\n",
    "                timer=0\n",
    "        \n",
    "                if hands:\n",
    "                    playerMove=None\n",
    "                    hand=hands[0]\n",
    "                    fingers = detector.fingersUp(hand)\n",
    "                    if fingers ==[0,0,0,0,0]:\n",
    "                        playerMove = 1\n",
    "                    if fingers== [1,1,1,1,1]:\n",
    "                        playerMove = 2\n",
    "                    if fingers == [0,1,1,0,0]:\n",
    "                        playerMove = 3\n",
    "                    \n",
    "                randomNumber = random.randint(1,3)\n",
    "                imgAI = cv2.imread(f'Resources/{randomNumber}.png',cv2.IMREAD_UNCHANGED)\n",
    "                imgBG = cvzone.overlayPNG(imgBG,imgAI,(149,310))\n",
    "                    \n",
    "                    \n",
    "                    #Player Wins\n",
    "                if(playerMove == 1 and randomNumber ==3) or \\\n",
    "                        (playerMove == 2 and randomNumber ==1) or \\\n",
    "                        (playerMove == 3 and randomNumber ==2):\n",
    "                        scores[1]+=1                    \n",
    "                   # print(playerMove)\n",
    "                \n",
    "                    #AI Wins\n",
    "                if(playerMove == 3 and randomNumber ==1) or \\\n",
    "                            (playerMove == 1 and randomNumber ==2) or \\\n",
    "                            (playerMove == 2 and randomNumber ==3):\n",
    "                            scores[0]+=1\n",
    "        \n",
    "    \n",
    "    imgBG[234:654,795:1195]=imgScaled\n",
    "    \n",
    "    if stateResult:\n",
    "        imgBG = cvzone.overlayPNG(imgBG,imgAI,(149,310))\n",
    "    \n",
    "    cv2.putText(imgBG,str(scores[0]),(410,215),cv2.FONT_HERSHEY_PLAIN,4,(255,255,255),6)\n",
    "    cv2.putText(imgBG,str(scores[1]),(1112,215),cv2.FONT_HERSHEY_PLAIN,4,(255,255,255),6)\n",
    "    \n",
    "    #cv2.imshow(\"Image\",img)\n",
    "    cv2.imshow(\"BG\",imgBG)\n",
    "   # cv2.imshow(\"Scaled\",imgScaled)\n",
    "    \n",
    "    \n",
    "    \n",
    "    key = cv2.waitKey(1)\n",
    "    if key == ord('s'):\n",
    "        startGame = True\n",
    "        initialTime = time.time()\n",
    "        stateResult = False\n",
    "        \n",
    "    if key == ord('q'):\n",
    "        break\n",
    "  \n",
    "# After the loop release the cap object\n",
    "cap.release()\n",
    "# Destroy all the windows\n",
    "cv2.destroyAllWindows()\n",
    "    "
   ]
  },
  {
   "cell_type": "code",
   "execution_count": null,
   "id": "f2981805-3402-4571-b687-ca22411469e8",
   "metadata": {},
   "outputs": [],
   "source": []
  }
 ],
 "metadata": {
  "kernelspec": {
   "display_name": "Python 3 (ipykernel)",
   "language": "python",
   "name": "python3"
  },
  "language_info": {
   "codemirror_mode": {
    "name": "ipython",
    "version": 3
   },
   "file_extension": ".py",
   "mimetype": "text/x-python",
   "name": "python",
   "nbconvert_exporter": "python",
   "pygments_lexer": "ipython3",
   "version": "3.11.0"
  }
 },
 "nbformat": 4,
 "nbformat_minor": 5
}
